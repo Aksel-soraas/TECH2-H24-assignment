{
 "cells": [
  {
   "cell_type": "markdown",
   "metadata": {},
   "source": [
    "# TECH 2 mandatory assignment - Part B\n",
    "\n",
    "Write your solution for Part B in this notebook."
   ]
  },
  {
   "cell_type": "code",
   "execution_count": 1,
   "metadata": {},
   "outputs": [],
   "source": [
    "from part_A import std_loops, std_builtin\n",
    "import numpy as np\n",
    "import csv"
   ]
  },
  {
   "cell_type": "code",
   "execution_count": 2,
   "metadata": {},
   "outputs": [
    {
     "data": {
      "text/plain": [
       "\"# open the file in read mode\\ndata = open('data.csv', 'r')\\ncol1 = []\\ncol2 = []\\ncol3 = []\\n\\nfor i in range(100):\\n    line = data.readline()\\n    linesplit = line.split(',')\\n    col1.append(linesplit[0])\\n    col2.append(linesplit[1])\\n    col3.append(linesplit[2])\\n    \\nfor i in range(900):\\n    line = data.readline()\\n    linesplit = line.split(',')\\n    col2.append(linesplit[0])\\n    col3.append(linesplit[1])\\n\\nfor i in range(9000):\\n    line = data.readline()\\n    linesplit = line.split(',')\\n    col3.append(linesplit[0])\\n\\nprint(col1)\""
      ]
     },
     "execution_count": 2,
     "metadata": {},
     "output_type": "execute_result"
    }
   ],
   "source": [
    "'''# open the file in read mode\n",
    "data = open('data.csv', 'r')\n",
    "col1 = []\n",
    "col2 = []\n",
    "col3 = []\n",
    "\n",
    "for i in range(100):\n",
    "    line = data.readline()\n",
    "    linesplit = line.split(',')\n",
    "    col1.append(linesplit[0])\n",
    "    col2.append(linesplit[1])\n",
    "    col3.append(linesplit[2])\n",
    "    \n",
    "for i in range(900):\n",
    "    line = data.readline()\n",
    "    linesplit = line.split(',')\n",
    "    col2.append(linesplit[0])\n",
    "    col3.append(linesplit[1])\n",
    "\n",
    "for i in range(9000):\n",
    "    line = data.readline()\n",
    "    linesplit = line.split(',')\n",
    "    col3.append(linesplit[0])\n",
    "\n",
    "print(col1)'''"
   ]
  },
  {
   "cell_type": "code",
   "execution_count": 3,
   "metadata": {},
   "outputs": [],
   "source": [
    "\n",
    "# Function to clean and convert strings to floats\n",
    "def clean_and_convert(value):\n",
    "    try:\n",
    "        # Remove commas and strip any surrounding whitespace\n",
    "        value = value.replace(',', '').strip()\n",
    "        \n",
    "        # Convert to float\n",
    "        return float(value)\n",
    "    except ValueError:\n",
    "        # If it cannot be converted, return None or handle it another way\n",
    "        return None\n",
    "\n",
    "# Initialize lists for each column\n",
    "col1, col2, col3 = [], [], []\n",
    "\n",
    "# Open the file\n",
    "with open('data.csv', 'r') as file:\n",
    "    csv_reader = csv.reader(file)\n",
    "\n",
    "    # Iterate through the rows and clean/convert each value\n",
    "    for row in csv_reader:\n",
    "        val1 = clean_and_convert(row[0])\n",
    "        val2 = clean_and_convert(row[1])\n",
    "        val3 = clean_and_convert(row[2])\n",
    "\n",
    "        # Append values only if they exist (i.e if they are not None)\n",
    "        if val1 is not None and val2 is not None and val3 is not None:\n",
    "            col1.append(val1)\n",
    "            col2.append(val2)\n",
    "            col3.append(val3)\n",
    "        \n",
    "        if val1 is None and val2 is not None and val3 is not None:\n",
    "            col2.append(val2)\n",
    "            col3.append(val3)\n",
    "        \n",
    "        if val1 is None and val2 is  None and val3 is not None:\n",
    "            col3.append(val3)"
   ]
  }
 ],
 "metadata": {
  "kernelspec": {
   "display_name": "Python 3",
   "language": "python",
   "name": "python3"
  },
  "language_info": {
   "codemirror_mode": {
    "name": "ipython",
    "version": 3
   },
   "file_extension": ".py",
   "mimetype": "text/x-python",
   "name": "python",
   "nbconvert_exporter": "python",
   "pygments_lexer": "ipython3",
   "version": "3.12.5"
  }
 },
 "nbformat": 4,
 "nbformat_minor": 2
}
