{
 "cells": [
  {
   "cell_type": "markdown",
   "metadata": {},
   "source": [
    "# TECH 2 mandatory assignment - Part B\n",
    "\n",
    "Write your solution for Part B in this notebook."
   ]
  },
  {
   "cell_type": "code",
   "execution_count": 6,
   "metadata": {},
   "outputs": [],
   "source": [
    "from part_A import std_loops, std_builtin\n",
    "import numpy as np\n",
    "import csv"
   ]
  },
  {
   "cell_type": "code",
   "execution_count": 23,
   "metadata": {},
   "outputs": [],
   "source": [
    "def clean_and_convert(value):                                           # Function to clean and convert strings to floats\n",
    "    try:\n",
    "        value = value.replace(',', '').strip()                          # Remove commas and strip any surrounding whitespace if there is any\n",
    "        return float(value)                                             # Convert to float\n",
    "    except ValueError:                                                  # Some values will be empty, then return None in order to avoid ValueError\n",
    "        return None\n",
    "\n",
    "col1, col2, col3 = [], [], []                                           # Create lists for the three columns        \n",
    "\n",
    "with open('data.csv', 'r') as file:                                     # Opens the file\n",
    "    csv_reader = csv.reader(file)\n",
    "\n",
    "    for row in csv_reader:                                              # Remove commas and convert each value\n",
    "        val1 = clean_and_convert(row[0])\n",
    "        val2 = clean_and_convert(row[1])\n",
    "        val3 = clean_and_convert(row[2])\n",
    "\n",
    "        if val1 is not None and val2 is not None and val3 is not None:  # Append the first 100 values to all columns\n",
    "            col1.append(val1)\n",
    "            col2.append(val2)\n",
    "            col3.append(val3)\n",
    "        \n",
    "        if  val1 is None and val2 is not None and val3 is not None:     # Append values 100 - 1,000 to column 2 and 3\n",
    "            col2.append(val2)\n",
    "            col3.append(val3)\n",
    "        \n",
    "        if val1 is None and val2 is None and val3 is not None:          # Append values 1000 - 10,000 to column 3\n",
    "            col3.append(val3)"
   ]
  },
  {
   "cell_type": "markdown",
   "metadata": {},
   "source": [
    "### Standard deviation of column 1 using looped function, built in functions and the std function from numpy."
   ]
  },
  {
   "cell_type": "code",
   "execution_count": 9,
   "metadata": {},
   "outputs": [
    {
     "name": "stdout",
     "output_type": "stream",
     "text": [
      "5.77 μs ± 9.24 ns per loop (mean ± std. dev. of 7 runs, 100,000 loops each)\n"
     ]
    },
    {
     "data": {
      "text/plain": [
       "0.2823721097353601"
      ]
     },
     "execution_count": 9,
     "metadata": {},
     "output_type": "execute_result"
    }
   ],
   "source": [
    "# Looped function\n",
    "%timeit std_loops(col1)\n",
    "std_loops(col1)"
   ]
  },
  {
   "cell_type": "code",
   "execution_count": 10,
   "metadata": {},
   "outputs": [
    {
     "name": "stdout",
     "output_type": "stream",
     "text": [
      "3.93 μs ± 18 ns per loop (mean ± std. dev. of 7 runs, 100,000 loops each)\n"
     ]
    },
    {
     "data": {
      "text/plain": [
       "0.2823721097353601"
      ]
     },
     "execution_count": 10,
     "metadata": {},
     "output_type": "execute_result"
    }
   ],
   "source": [
    "# Built in function\n",
    "%timeit std_builtin(col1)\n",
    "std_builtin(col1)"
   ]
  },
  {
   "cell_type": "code",
   "execution_count": 11,
   "metadata": {},
   "outputs": [
    {
     "name": "stdout",
     "output_type": "stream",
     "text": [
      "7.86 μs ± 75.4 ns per loop (mean ± std. dev. of 7 runs, 100,000 loops each)\n"
     ]
    },
    {
     "data": {
      "text/plain": [
       "0.28237210973536014"
      ]
     },
     "execution_count": 11,
     "metadata": {},
     "output_type": "execute_result"
    }
   ],
   "source": [
    "# Std function from numpy\n",
    "%timeit np.std(col1)\n",
    "np.std(col1)"
   ]
  },
  {
   "cell_type": "markdown",
   "metadata": {},
   "source": [
    "This shows that the function made of built in python functions was the quickest and the std function form numpy was the slowest."
   ]
  },
  {
   "cell_type": "markdown",
   "metadata": {},
   "source": [
    "### Standard deviation of column 2 using looped function, built in functions and the std function from numpy."
   ]
  },
  {
   "cell_type": "code",
   "execution_count": 12,
   "metadata": {},
   "outputs": [
    {
     "name": "stdout",
     "output_type": "stream",
     "text": [
      "60.7 μs ± 62.6 ns per loop (mean ± std. dev. of 7 runs, 10,000 loops each)\n"
     ]
    },
    {
     "data": {
      "text/plain": [
       "0.28467443283850546"
      ]
     },
     "execution_count": 12,
     "metadata": {},
     "output_type": "execute_result"
    }
   ],
   "source": [
    "# Looped function\n",
    "%timeit std_loops(col2)\n",
    "std_loops(col2)"
   ]
  },
  {
   "cell_type": "code",
   "execution_count": 13,
   "metadata": {},
   "outputs": [
    {
     "name": "stdout",
     "output_type": "stream",
     "text": [
      "37.8 μs ± 43.2 ns per loop (mean ± std. dev. of 7 runs, 10,000 loops each)\n"
     ]
    },
    {
     "data": {
      "text/plain": [
       "0.2846744328385061"
      ]
     },
     "execution_count": 13,
     "metadata": {},
     "output_type": "execute_result"
    }
   ],
   "source": [
    "# Built in function\n",
    "%timeit std_builtin(col2)\n",
    "std_builtin(col2)"
   ]
  },
  {
   "cell_type": "code",
   "execution_count": 14,
   "metadata": {},
   "outputs": [
    {
     "name": "stdout",
     "output_type": "stream",
     "text": [
      "25 μs ± 64 ns per loop (mean ± std. dev. of 7 runs, 10,000 loops each)\n"
     ]
    },
    {
     "data": {
      "text/plain": [
       "0.28467443283850596"
      ]
     },
     "execution_count": 14,
     "metadata": {},
     "output_type": "execute_result"
    }
   ],
   "source": [
    "# Std function from numpy\n",
    "%timeit np.std(col2)\n",
    "np.std(col2)"
   ]
  },
  {
   "cell_type": "markdown",
   "metadata": {},
   "source": [
    "Now we see that with a longer list, the std function from numpy is the quickest, and the looped one is the slowest."
   ]
  },
  {
   "cell_type": "markdown",
   "metadata": {},
   "source": [
    "### Standard deviation of column 3 using looped function, built in functions and the std function from numpy."
   ]
  },
  {
   "cell_type": "code",
   "execution_count": 15,
   "metadata": {},
   "outputs": [
    {
     "name": "stdout",
     "output_type": "stream",
     "text": [
      "608 μs ± 3.16 μs per loop (mean ± std. dev. of 7 runs, 1,000 loops each)\n"
     ]
    },
    {
     "data": {
      "text/plain": [
       "0.2854045269476155"
      ]
     },
     "execution_count": 15,
     "metadata": {},
     "output_type": "execute_result"
    }
   ],
   "source": [
    "# Looped function\n",
    "%timeit std_loops(col3)\n",
    "std_loops(col3)"
   ]
  },
  {
   "cell_type": "code",
   "execution_count": 21,
   "metadata": {},
   "outputs": [
    {
     "data": {
      "text/plain": [
       "0.28540452694761553"
      ]
     },
     "execution_count": 21,
     "metadata": {},
     "output_type": "execute_result"
    }
   ],
   "source": [
    "# Built in function\n",
    "%timeit std_builtin(col3)\n",
    "std_builtin(col3)"
   ]
  },
  {
   "cell_type": "code",
   "execution_count": 20,
   "metadata": {},
   "outputs": [
    {
     "data": {
      "text/plain": [
       "0.2854045269476156"
      ]
     },
     "execution_count": 20,
     "metadata": {},
     "output_type": "execute_result"
    }
   ],
   "source": [
    "# Std function from numpy\n",
    "%timeit np.std(col3)\n",
    "np.std(col3)"
   ]
  },
  {
   "cell_type": "markdown",
   "metadata": {},
   "source": [
    "Here we clearly see that the function from numpy is the fastest."
   ]
  },
  {
   "cell_type": "markdown",
   "metadata": {},
   "source": [
    "## Conclusion"
   ]
  },
  {
   "cell_type": "markdown",
   "metadata": {},
   "source": [
    "From testing I have found that the self made looping function was the slowest in all cases, which was not too surprising. The function from numpy performes better for longer sequences, but it was surprising to see that for shorter sequences, the function made up from python's built in functions len() and sum() was the fastest. \n",
    "\n",
    "After reading about the numpy.std function I know that the function supports many specifications and features which causes it to take longer in the start up process. Since it requires some time to set up and do checks. This time becomes insignificant on larger qunatities of data, but on a short sequence it can take up the majority of the time."
   ]
  },
  {
   "cell_type": "markdown",
   "metadata": {},
   "source": []
  }
 ],
 "metadata": {
  "kernelspec": {
   "display_name": "Python 3",
   "language": "python",
   "name": "python3"
  },
  "language_info": {
   "codemirror_mode": {
    "name": "ipython",
    "version": 3
   },
   "file_extension": ".py",
   "mimetype": "text/x-python",
   "name": "python",
   "nbconvert_exporter": "python",
   "pygments_lexer": "ipython3",
   "version": "3.12.5"
  }
 },
 "nbformat": 4,
 "nbformat_minor": 2
}
